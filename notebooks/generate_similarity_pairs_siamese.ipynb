{
 "cells": [
  {
   "cell_type": "markdown",
   "id": "71e3e890-a7f3-4109-a78e-964a7ab37076",
   "metadata": {},
   "source": [
    "# Generate euclidian similarity pairs"
   ]
  },
  {
   "cell_type": "code",
   "execution_count": 81,
   "id": "8099fa44-f957-4924-b66b-595b10da7067",
   "metadata": {},
   "outputs": [],
   "source": [
    "import os\n",
    "from itertools import combinations\n",
    "import csv\n",
    "import cv2\n",
    "import pandas as pd\n",
    "import numpy as np\n",
    "import ast"
   ]
  },
  {
   "cell_type": "code",
   "execution_count": 82,
   "id": "2785f2c2-2b82-4116-8fec-cdc0d0768e14",
   "metadata": {},
   "outputs": [],
   "source": [
    "PAIRS = []\n",
    "ROOT = \"../raw_source\""
   ]
  },
  {
   "cell_type": "markdown",
   "id": "eac5c66c-b81d-4b0d-9a16-b0cd197af2a7",
   "metadata": {},
   "source": [
    "### Create Pairs"
   ]
  },
  {
   "cell_type": "code",
   "execution_count": 83,
   "id": "935546f2-26e0-43d3-83d7-96e1a822246b",
   "metadata": {},
   "outputs": [],
   "source": [
    "def create_similarity_pairs():\n",
    "    list_dir = list(os.listdir(ROOT))\n",
    "    output = []\n",
    "    \n",
    "    for i, faces in enumerate(list_dir):\n",
    "        file_path = os.path.join(ROOT, faces)\n",
    "        for pair in combinations(os.listdir(file_path), 2):\n",
    "            path1 = f\"{ROOT}/{faces}/{pair[0]}\"\n",
    "            path2 = f\"{ROOT}/{faces}/{pair[1]}\"\n",
    "            output.append([faces, path1, faces, path2, 1])\n",
    "\n",
    "    return output"
   ]
  },
  {
   "cell_type": "code",
   "execution_count": 84,
   "id": "377c13e7-b69a-4e73-9bff-69c0f1b026d4",
   "metadata": {},
   "outputs": [],
   "source": [
    "def create_dissimilarity_pairs():\n",
    "    list_dir = list(os.listdir(ROOT))\n",
    "    output = []\n",
    "\n",
    "    for i, faces_name in enumerate(list_dir):\n",
    "        list_face1 = os.listdir(os.path.join(ROOT, faces_name))\n",
    "        \n",
    "        for j in range(i + 1, min(i+40, len(list_dir))):\n",
    "            list_face2 = os.listdir(os.path.join(ROOT, list_dir[j]))\n",
    "            path1 = f\"{ROOT}/{faces_name}/{list_face1[0]}\"\n",
    "            path2 = f\"{ROOT}/{list_dir[j]}/{list_face2[0]}\"\n",
    "            output.append([faces_name, path1, list_dir[j], path2, 0])\n",
    "        \n",
    "    return output"
   ]
  },
  {
   "cell_type": "code",
   "execution_count": 85,
   "id": "1dd1bd0f-ba10-4a6a-b263-96c2b24a0262",
   "metadata": {},
   "outputs": [],
   "source": [
    "def create_pairs():\n",
    "    return create_similarity_pairs() + create_dissimilarity_pairs()"
   ]
  },
  {
   "cell_type": "code",
   "execution_count": 86,
   "id": "0476a7c4-c00f-44e5-ac7c-11f5dafebf7d",
   "metadata": {},
   "outputs": [],
   "source": [
    "PAIRS = create_pairs()\n",
    "PAIRS.insert(0, ['input1_name', 'input1_path', 'input2_name', 'input2_path', 'similarity'])"
   ]
  },
  {
   "cell_type": "code",
   "execution_count": 87,
   "id": "ef202282-cebb-4374-bd92-d6ed373757bf",
   "metadata": {},
   "outputs": [
    {
     "data": {
      "text/plain": [
       "['tiana_manohisoa',\n",
       " '../raw_source/tiana_manohisoa/tiary_manohiniaina_001.JPG',\n",
       " 'Zavad_Zarif',\n",
       " '../raw_source/Zavad_Zarif/Zavad_Zarif_0001.jpg',\n",
       " 0]"
      ]
     },
     "execution_count": 87,
     "metadata": {},
     "output_type": "execute_result"
    }
   ],
   "source": [
    "PAIRS[-3]"
   ]
  },
  {
   "cell_type": "markdown",
   "id": "9839286f-01e6-4f26-88a9-7eb8bd933369",
   "metadata": {},
   "source": [
    "# Convert the data into csv"
   ]
  },
  {
   "cell_type": "code",
   "execution_count": 88,
   "id": "49d712ec-f9b4-488a-87fc-c82bfe623a64",
   "metadata": {},
   "outputs": [],
   "source": [
    "# Convert the result of pairs into csv\n",
    "output = '../data/dataset_image_euclidian.csv'\n",
    "with open(output, 'w', newline='') as file:\n",
    "    writer = csv.writer(file)\n",
    "    writer.writerows(PAIRS)\n"
   ]
  },
  {
   "cell_type": "code",
   "execution_count": 1,
   "id": "26e9f08a-c232-427e-b7c8-d34942d1b267",
   "metadata": {
    "scrolled": true
   },
   "outputs": [
    {
     "ename": "NameError",
     "evalue": "name 'pd' is not defined",
     "output_type": "error",
     "traceback": [
      "\u001b[1;31m---------------------------------------------------------------------------\u001b[0m",
      "\u001b[1;31mNameError\u001b[0m                                 Traceback (most recent call last)",
      "Cell \u001b[1;32mIn[1], line 1\u001b[0m\n\u001b[1;32m----> 1\u001b[0m image_df \u001b[38;5;241m=\u001b[39m \u001b[43mpd\u001b[49m\u001b[38;5;241m.\u001b[39mread_csv(output)\n\u001b[0;32m      2\u001b[0m image_df\u001b[38;5;241m.\u001b[39mshape\n",
      "\u001b[1;31mNameError\u001b[0m: name 'pd' is not defined"
     ]
    }
   ],
   "source": [
    "image_df = pd.read_csv(output)\n",
    "image_df.shape"
   ]
  }
 ],
 "metadata": {
  "kernelspec": {
   "display_name": "Python 3",
   "language": "python",
   "name": "python3"
  },
  "language_info": {
   "codemirror_mode": {
    "name": "ipython",
    "version": 3
   },
   "file_extension": ".py",
   "mimetype": "text/x-python",
   "name": "python",
   "nbconvert_exporter": "python",
   "pygments_lexer": "ipython3",
   "version": "3.12.1"
  }
 },
 "nbformat": 4,
 "nbformat_minor": 5
}
