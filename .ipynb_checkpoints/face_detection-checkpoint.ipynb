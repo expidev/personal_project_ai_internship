{
 "cells": [
  {
   "cell_type": "markdown",
   "metadata": {},
   "source": [
    "# FACE DETECTION USING THE MTCNN Model"
   ]
  },
  {
   "cell_type": "code",
   "execution_count": 1,
   "metadata": {},
   "outputs": [],
   "source": [
    "# installing dependencies\n",
    "# !pip install numpy opencv-python mtcnn tensorflow"
   ]
  },
  {
   "cell_type": "code",
   "execution_count": 2,
   "metadata": {},
   "outputs": [],
   "source": [
    "# !pip install matplotlib"
   ]
  },
  {
   "cell_type": "code",
   "execution_count": 3,
   "metadata": {},
   "outputs": [],
   "source": [
    "import cv2\n",
    "import numpy as np\n",
    "from mtcnn import MTCNN\n",
    "from matplotlib import pyplot as plt\n",
    "from IPython.display import display, clear_output"
   ]
  },
  {
   "cell_type": "code",
   "execution_count": 16,
   "metadata": {},
   "outputs": [],
   "source": [
    "# detect face and returns the list of keypoints\n",
    "# input: img from the cv\n",
    "def detect_faces(img):\n",
    "    detector = MTCNN()\n",
    "    return detector.detect_faces(img)\n",
    "    "
   ]
  },
  {
   "cell_type": "code",
   "execution_count": 15,
   "metadata": {},
   "outputs": [],
   "source": [
    "# Draw a box\n",
    "def draw_box(img, faces):\n",
    "    for face in faces:\n",
    "        x, y, width, height = face['box']\n",
    "        cv2.rectangle(img, (x, y), (x + width, y + height), (0, 255, 0),\n",
    "                      2);\n",
    "        cv2.imwrite(\"saved.jpg\", img)\n",
    "    return img"
   ]
  },
  {
   "cell_type": "code",
   "execution_count": 17,
   "metadata": {},
   "outputs": [
    {
     "name": "stdout",
     "output_type": "stream",
     "text": [
      "\u001b[1m1/1\u001b[0m \u001b[32m━━━━━━━━━━━━━━━━━━━━\u001b[0m\u001b[37m\u001b[0m \u001b[1m0s\u001b[0m 145ms/step\n",
      "\u001b[1m1/1\u001b[0m \u001b[32m━━━━━━━━━━━━━━━━━━━━\u001b[0m\u001b[37m\u001b[0m \u001b[1m0s\u001b[0m 130ms/step\n",
      "\u001b[1m1/1\u001b[0m \u001b[32m━━━━━━━━━━━━━━━━━━━━\u001b[0m\u001b[37m\u001b[0m \u001b[1m0s\u001b[0m 30ms/step\n",
      "\u001b[1m1/1\u001b[0m \u001b[32m━━━━━━━━━━━━━━━━━━━━\u001b[0m\u001b[37m\u001b[0m \u001b[1m0s\u001b[0m 30ms/step\n",
      "\u001b[1m1/1\u001b[0m \u001b[32m━━━━━━━━━━━━━━━━━━━━\u001b[0m\u001b[37m\u001b[0m \u001b[1m0s\u001b[0m 25ms/step\n",
      "\u001b[1m1/1\u001b[0m \u001b[32m━━━━━━━━━━━━━━━━━━━━\u001b[0m\u001b[37m\u001b[0m \u001b[1m0s\u001b[0m 25ms/step\n",
      "\u001b[1m1/1\u001b[0m \u001b[32m━━━━━━━━━━━━━━━━━━━━\u001b[0m\u001b[37m\u001b[0m \u001b[1m0s\u001b[0m 25ms/step\n",
      "\u001b[1m1/1\u001b[0m \u001b[32m━━━━━━━━━━━━━━━━━━━━\u001b[0m\u001b[37m\u001b[0m \u001b[1m0s\u001b[0m 25ms/step\n",
      "\u001b[1m1/1\u001b[0m \u001b[32m━━━━━━━━━━━━━━━━━━━━\u001b[0m\u001b[37m\u001b[0m \u001b[1m0s\u001b[0m 150ms/step\n",
      "\u001b[1m1/1\u001b[0m \u001b[32m━━━━━━━━━━━━━━━━━━━━\u001b[0m\u001b[37m\u001b[0m \u001b[1m0s\u001b[0m 180ms/step\n"
     ]
    },
    {
     "data": {
      "text/plain": [
       "array([[[163, 204, 207],\n",
       "        [164, 205, 208],\n",
       "        [164, 205, 208],\n",
       "        ...,\n",
       "        [164, 205, 208],\n",
       "        [164, 205, 208],\n",
       "        [164, 205, 208]],\n",
       "\n",
       "       [[164, 205, 208],\n",
       "        [164, 205, 208],\n",
       "        [164, 205, 208],\n",
       "        ...,\n",
       "        [164, 205, 208],\n",
       "        [164, 205, 208],\n",
       "        [164, 205, 208]],\n",
       "\n",
       "       [[164, 205, 208],\n",
       "        [164, 205, 208],\n",
       "        [164, 205, 208],\n",
       "        ...,\n",
       "        [164, 205, 208],\n",
       "        [164, 205, 208],\n",
       "        [164, 205, 208]],\n",
       "\n",
       "       ...,\n",
       "\n",
       "       [[108,  60,  48],\n",
       "        [108,  60,  48],\n",
       "        [107,  58,  48],\n",
       "        ...,\n",
       "        [110,  67,  64],\n",
       "        [110,  67,  64],\n",
       "        [108,  67,  64]],\n",
       "\n",
       "       [[108,  60,  48],\n",
       "        [108,  60,  48],\n",
       "        [107,  59,  47],\n",
       "        ...,\n",
       "        [110,  67,  64],\n",
       "        [108,  67,  64],\n",
       "        [108,  67,  64]],\n",
       "\n",
       "       [[108,  60,  48],\n",
       "        [108,  60,  48],\n",
       "        [107,  59,  47],\n",
       "        ...,\n",
       "        [108,  67,  64],\n",
       "        [108,  67,  64],\n",
       "        [108,  67,  64]]], dtype=uint8)"
      ]
     },
     "execution_count": 17,
     "metadata": {},
     "output_type": "execute_result"
    }
   ],
   "source": [
    "img = cv2.imread(\"image.jpg\")\n",
    "draw_box(img, detect_faces(img))"
   ]
  },
  {
   "cell_type": "code",
   "execution_count": 36,
   "metadata": {
    "editable": true,
    "slideshow": {
     "slide_type": ""
    },
    "tags": []
   },
   "outputs": [],
   "source": [
    "# show the camera from the webcam and start to live detection\n",
    "# frame_period\n",
    "def real_time_detection(frame_period = 10):\n",
    "    cap = cv2.VideoCapture(0)\n",
    "    i = 0\n",
    "    while (cap.isOpened()):\n",
    "        ret, frame = cap.read()\n",
    "        print(\"pass\")\n",
    "        if not ret:\n",
    "            break\n",
    "        if (i % frame_period == 0 & i != 0):\n",
    "            faces = detect_faces(frame)\n",
    "            faces_with_box = draw_box(frame, faces)\n",
    "        cv2.imshow('Camera', frame)\n",
    "        i += 1\n",
    "        \n",
    "        if (cv2.waitKey(1) & 0xFF == ord('q')):\n",
    "            break\n",
    "        clear_output(wait=True)\n",
    "        \n",
    "    cap.release()\n",
    "    cv2.destroyAllWindows()"
   ]
  },
  {
   "cell_type": "code",
   "execution_count": 38,
   "metadata": {},
   "outputs": [
    {
     "name": "stdout",
     "output_type": "stream",
     "text": [
      "pass\n"
     ]
    }
   ],
   "source": [
    "real_time_detection(10)"
   ]
  },
  {
   "cell_type": "code",
   "execution_count": null,
   "metadata": {},
   "outputs": [],
   "source": []
  }
 ],
 "metadata": {
  "kernelspec": {
   "display_name": "Python 3 (ipykernel)",
   "language": "python",
   "name": "python3"
  },
  "language_info": {
   "codemirror_mode": {
    "name": "ipython",
    "version": 3
   },
   "file_extension": ".py",
   "mimetype": "text/x-python",
   "name": "python",
   "nbconvert_exporter": "python",
   "pygments_lexer": "ipython3",
   "version": "3.12.1"
  }
 },
 "nbformat": 4,
 "nbformat_minor": 4
}
